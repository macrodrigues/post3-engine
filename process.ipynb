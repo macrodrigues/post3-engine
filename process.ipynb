{
 "cells": [
  {
   "cell_type": "code",
   "execution_count": 1,
   "metadata": {},
   "outputs": [
    {
     "data": {
      "text/plain": [
       "True"
      ]
     },
     "execution_count": 1,
     "metadata": {},
     "output_type": "execute_result"
    }
   ],
   "source": [
    "import os\n",
    "from eth_account.account import Account\n",
    "from upload_utils import make_config, create_asset_from_arweave\n",
    "from ocean_lib.models.dispenser import DispenserArguments\n",
    "from ocean_lib.ocean.util import to_wei\n",
    "import dotenv\n",
    "dotenv.load_dotenv('keys.env')"
   ]
  },
  {
   "cell_type": "code",
   "execution_count": 2,
   "metadata": {},
   "outputs": [],
   "source": [
    "ocean, ocean_obj = make_config(\"60cff857e5c54611b6a141ab8d5f6964\", 'mumbai')"
   ]
  },
  {
   "cell_type": "code",
   "execution_count": 3,
   "metadata": {},
   "outputs": [],
   "source": [
    "datatoken = ocean.get_datatoken('0xCf83249682Fa5E47bCC159910B791F2F8A68FB25')\n",
    "data_token = ocean.get_nft_token('0xCf83249682Fa5E47bCC159910B791F2F8A68FB25')"
   ]
  },
  {
   "cell_type": "markdown",
   "metadata": {},
   "source": [
    "### Set buyer's address"
   ]
  },
  {
   "cell_type": "code",
   "execution_count": 4,
   "metadata": {},
   "outputs": [],
   "source": [
    "bob_private_key = os.getenv('REMOTE_TEST_PRIVATE_KEY2')\n",
    "bob = Account.from_key(private_key=bob_private_key)\n",
    "\n",
    "alice_private_key = os.getenv('REMOTE_TEST_PRIVATE_KEY1')\n",
    "alice = Account.from_key(private_key=alice_private_key)"
   ]
  },
  {
   "cell_type": "code",
   "execution_count": 5,
   "metadata": {},
   "outputs": [
    {
     "name": "stderr",
     "output_type": "stream",
     "text": [
      "INFO:ocean_lib.data_provider.data_encryptor:Asset urls encrypted successfully, encrypted urls str: 0x04d309c23d293ca359a7d09197f137faa2859facf1b606842d509d8884ee749f5162fdea40648daf7c22e4c55734bd46b71b95a521f321988d3b03ea5002f4da94e8c590aca860b9f60dd9239817b287a8742787c1de53da7aa0d3c7bccd8391eb44382c369df13aac635c489b7989aa0c86e3f92242d892e8ff9743d4a71f1e2dfd4afda082bb058c001ddb2f566fb3e35833d9ebfdb830f6653df03458cde2fb273ef569712cccd2b58dc29bb1012390b61597e32193c7d10d70fb68ea12afb20f4e55885c31a8d8c0062741d0c5f4a458c6028765a7f86b180b849d0b60ca47b84c428df38a36bac63e10db8885abb5fbd1b1abfe8b926a390ba9a63ca7ebd064a08f4883514b78a1d3d08600f809117770f7657e0426bee333ed418d8c7c26221a82483b943cb07f3bfda5cd664f0fdf5f58ee3bf0, encryptedEndpoint https://v4.provider.mumbai.oceanprotocol.com/api/services/encrypt?chainId=80001\n",
      "INFO:ocean_lib.data_provider.data_encryptor:Asset urls encrypted successfully, encrypted urls str: 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, encryptedEndpoint https://v4.provider.mumbai.oceanprotocol.com/api/services/encrypt?chainId=80001\n"
     ]
    }
   ],
   "source": [
    "data_nft, datatoken, ddo = create_asset_from_arweave(\n",
    "    ocean, \n",
    "    'test', \n",
    "    alice, \n",
    "    os.getenv('ARWEAVE_ID'),\n",
    "    'Post3', \n",
    "    'some dataset', \n",
    "    ['amazing', 'nice', 'dataset'])"
   ]
  },
  {
   "cell_type": "code",
   "execution_count": 6,
   "metadata": {},
   "outputs": [],
   "source": [
    "some_did = ddo.did"
   ]
  },
  {
   "cell_type": "code",
   "execution_count": 7,
   "metadata": {},
   "outputs": [],
   "source": [
    "some_ddo = ocean.assets.resolve(some_did)"
   ]
  },
  {
   "cell_type": "code",
   "execution_count": null,
   "metadata": {},
   "outputs": [],
   "source": [
    "# address = input(\"Buyer's address: \")"
   ]
  },
  {
   "cell_type": "markdown",
   "metadata": {},
   "source": [
    "### Mint"
   ]
  },
  {
   "cell_type": "code",
   "execution_count": 8,
   "metadata": {},
   "outputs": [
    {
     "data": {
      "text/plain": [
       "AttributeDict({'blockHash': HexBytes('0x49957565d2a82262ce6ea95019f13f451ea71c61249391412f8e210f249bf65c'),\n",
       " 'blockNumber': 43839136,\n",
       " 'contractAddress': None,\n",
       " 'cumulativeGasUsed': 23944935,\n",
       " 'effectiveGasPrice': 1695600972,\n",
       " 'from': '0x5368DAa81FD82a058a2F683A56A923777570CbB6',\n",
       " 'gasUsed': 75632,\n",
       " 'logs': [AttributeDict({'address': '0xA90DB37a6cefB0894db25b48514f2013fD95a416',\n",
       "   'blockHash': HexBytes('0x49957565d2a82262ce6ea95019f13f451ea71c61249391412f8e210f249bf65c'),\n",
       "   'blockNumber': 43839136,\n",
       "   'data': HexBytes('0x0000000000000000000000000000000000000000000000000de0b6b3a7640000'),\n",
       "   'logIndex': 387,\n",
       "   'removed': False,\n",
       "   'topics': [HexBytes('0xddf252ad1be2c89b69c2b068fc378daa952ba7f163c4a11628f55a4df523b3ef'),\n",
       "    HexBytes('0x0000000000000000000000000000000000000000000000000000000000000000'),\n",
       "    HexBytes('0x0000000000000000000000000f132b540528f52a19bc92251d93abd752a8453c')],\n",
       "   'transactionHash': HexBytes('0x152e7da9b16912be9bf40f97bb65c04ecf29e60775e8139a24ca1768def57c19'),\n",
       "   'transactionIndex': 108}),\n",
       "  AttributeDict({'address': '0x0000000000000000000000000000000000001010',\n",
       "   'blockHash': HexBytes('0x49957565d2a82262ce6ea95019f13f451ea71c61249391412f8e210f249bf65c'),\n",
       "   'blockNumber': 43839136,\n",
       "   'data': HexBytes('0x000000000000000000000000000000000000000000000000000074a29878d5b000000000000000000000000000000000000000000000000001c327adcee03bd900000000000000000000000000000000000000000000048d8adc97d3aae13db900000000000000000000000000000000000000000000000001c2b30b3667662900000000000000000000000000000000000000000000048d8add0c76435a1369'),\n",
       "   'logIndex': 388,\n",
       "   'removed': False,\n",
       "   'topics': [HexBytes('0x4dfe1bbbcf077ddc3e01291eea2d5c70c2b422b415d95645b9adcfd678cb1d63'),\n",
       "    HexBytes('0x0000000000000000000000000000000000000000000000000000000000001010'),\n",
       "    HexBytes('0x0000000000000000000000005368daa81fd82a058a2f683a56a923777570cbb6'),\n",
       "    HexBytes('0x0000000000000000000000005082f249cdb2f2c1ee035e4f423c46ea2dab3ab1')],\n",
       "   'transactionHash': HexBytes('0x152e7da9b16912be9bf40f97bb65c04ecf29e60775e8139a24ca1768def57c19'),\n",
       "   'transactionIndex': 108})],\n",
       " 'logsBloom': HexBytes('0x20000000000000000000000000000002000000000000000000000000020000000000000002000000000000000000000000008000000000000000000000000080000000000000000000000008000000800000000000000000000100000000000000000000020000000000000000000800000000000000000080000010000000000000000000000000000000000000000000000000400000000000000000000000200000000000100000000000000000401000000000000000000000000000004000000002000000000001000000000000000000000000000000100000000020000000000000000080000000000000000000000000000000050000000000100000'),\n",
       " 'status': 1,\n",
       " 'to': '0xA90DB37a6cefB0894db25b48514f2013fD95a416',\n",
       " 'transactionHash': HexBytes('0x152e7da9b16912be9bf40f97bb65c04ecf29e60775e8139a24ca1768def57c19'),\n",
       " 'transactionIndex': 108,\n",
       " 'type': 2})"
      ]
     },
     "execution_count": 8,
     "metadata": {},
     "output_type": "execute_result"
    }
   ],
   "source": [
    "datatoken.mint(bob.address, to_wei(1), {\"from\": alice})"
   ]
  },
  {
   "cell_type": "markdown",
   "metadata": {},
   "source": [
    "### Consume Asset"
   ]
  },
  {
   "cell_type": "code",
   "execution_count": 23,
   "metadata": {},
   "outputs": [
    {
     "ename": "TypeError",
     "evalue": "typing.Any cannot be used with isinstance()",
     "output_type": "error",
     "traceback": [
      "\u001b[0;31m---------------------------------------------------------------------------\u001b[0m",
      "\u001b[0;31mTypeError\u001b[0m                                 Traceback (most recent call last)",
      "Cell \u001b[0;32mIn[23], line 2\u001b[0m\n\u001b[1;32m      1\u001b[0m \u001b[38;5;66;03m# Bob sends a datatoken to the service to get access\u001b[39;00m\n\u001b[0;32m----> 2\u001b[0m order_tx_id \u001b[38;5;241m=\u001b[39m \u001b[43mocean\u001b[49m\u001b[38;5;241;43m.\u001b[39;49m\u001b[43massets\u001b[49m\u001b[38;5;241;43m.\u001b[39;49m\u001b[43mpay_for_access_service\u001b[49m\u001b[43m(\u001b[49m\u001b[43msome_ddo\u001b[49m\u001b[43m,\u001b[49m\u001b[43m \u001b[49m\u001b[43m{\u001b[49m\u001b[38;5;124;43m\"\u001b[39;49m\u001b[38;5;124;43mfrom\u001b[39;49m\u001b[38;5;124;43m\"\u001b[39;49m\u001b[43m:\u001b[49m\u001b[43m \u001b[49m\u001b[43mbob\u001b[49m\u001b[43m}\u001b[49m\u001b[43m)\u001b[49m\n\u001b[1;32m      4\u001b[0m \u001b[38;5;66;03m# Bob downloads the file. If the connection breaks, Bob can try again\u001b[39;00m\n\u001b[1;32m      5\u001b[0m asset_dir \u001b[38;5;241m=\u001b[39m ocean\u001b[38;5;241m.\u001b[39massets\u001b[38;5;241m.\u001b[39mdownload_asset(some_ddo, bob, \u001b[38;5;124m'\u001b[39m\u001b[38;5;124m./\u001b[39m\u001b[38;5;124m'\u001b[39m, order_tx_id)\n",
      "File \u001b[0;32m~/.pyenv/versions/3.11.4/envs/carbet/lib/python3.11/site-packages/enforce_typing/decorator.py:29\u001b[0m, in \u001b[0;36menforce_types.<locals>.decorate.<locals>.wrapper\u001b[0;34m(*args, **kwargs)\u001b[0m\n\u001b[1;32m     26\u001b[0m \u001b[38;5;129m@wraps\u001b[39m(func)\n\u001b[1;32m     27\u001b[0m \u001b[38;5;28;01mdef\u001b[39;00m \u001b[38;5;21mwrapper\u001b[39m(\u001b[38;5;241m*\u001b[39margs, \u001b[38;5;241m*\u001b[39m\u001b[38;5;241m*\u001b[39mkwargs):\n\u001b[1;32m     28\u001b[0m     check_types(\u001b[38;5;241m*\u001b[39margs, \u001b[38;5;241m*\u001b[39m\u001b[38;5;241m*\u001b[39mkwargs)\n\u001b[0;32m---> 29\u001b[0m     \u001b[38;5;28;01mreturn\u001b[39;00m \u001b[43mfunc\u001b[49m\u001b[43m(\u001b[49m\u001b[38;5;241;43m*\u001b[39;49m\u001b[43margs\u001b[49m\u001b[43m,\u001b[49m\u001b[43m \u001b[49m\u001b[38;5;241;43m*\u001b[39;49m\u001b[38;5;241;43m*\u001b[39;49m\u001b[43mkwargs\u001b[49m\u001b[43m)\u001b[49m\n",
      "File \u001b[0;32m~/.pyenv/versions/3.11.4/envs/carbet/lib/python3.11/site-packages/ocean_lib/ocean/ocean_assets.py:703\u001b[0m, in \u001b[0;36mOceanAssets.pay_for_access_service\u001b[0;34m(self, ddo, tx_dict, service, consume_market_fees, consumer_address, userdata, consume_market_swap_fee_amount, consume_market_swap_fee_address)\u001b[0m\n\u001b[1;32m    695\u001b[0m data_provider \u001b[38;5;241m=\u001b[39m DataServiceProvider\n\u001b[1;32m    697\u001b[0m initialize_args \u001b[38;5;241m=\u001b[39m {\n\u001b[1;32m    698\u001b[0m     \u001b[38;5;124m\"\u001b[39m\u001b[38;5;124mdid\u001b[39m\u001b[38;5;124m\"\u001b[39m: ddo\u001b[38;5;241m.\u001b[39mdid,\n\u001b[1;32m    699\u001b[0m     \u001b[38;5;124m\"\u001b[39m\u001b[38;5;124mservice\u001b[39m\u001b[38;5;124m\"\u001b[39m: service,\n\u001b[1;32m    700\u001b[0m     \u001b[38;5;124m\"\u001b[39m\u001b[38;5;124mconsumer_address\u001b[39m\u001b[38;5;124m\"\u001b[39m: consumer_address,\n\u001b[1;32m    701\u001b[0m }\n\u001b[0;32m--> 703\u001b[0m initialize_response \u001b[38;5;241m=\u001b[39m \u001b[43mdata_provider\u001b[49m\u001b[38;5;241;43m.\u001b[39;49m\u001b[43minitialize\u001b[49m\u001b[43m(\u001b[49m\u001b[38;5;241;43m*\u001b[39;49m\u001b[38;5;241;43m*\u001b[39;49m\u001b[43minitialize_args\u001b[49m\u001b[43m)\u001b[49m\n\u001b[1;32m    704\u001b[0m provider_fees \u001b[38;5;241m=\u001b[39m initialize_response\u001b[38;5;241m.\u001b[39mjson()[\u001b[38;5;124m\"\u001b[39m\u001b[38;5;124mproviderFee\u001b[39m\u001b[38;5;124m\"\u001b[39m]\n\u001b[1;32m    706\u001b[0m params \u001b[38;5;241m=\u001b[39m {\n\u001b[1;32m    707\u001b[0m     \u001b[38;5;124m\"\u001b[39m\u001b[38;5;124mconsumer\u001b[39m\u001b[38;5;124m\"\u001b[39m: consumer_address,\n\u001b[1;32m    708\u001b[0m     \u001b[38;5;124m\"\u001b[39m\u001b[38;5;124mservice_index\u001b[39m\u001b[38;5;124m\"\u001b[39m: ddo\u001b[38;5;241m.\u001b[39mget_index_of_service(service),\n\u001b[0;32m   (...)\u001b[0m\n\u001b[1;32m    711\u001b[0m     \u001b[38;5;124m\"\u001b[39m\u001b[38;5;124mtx_dict\u001b[39m\u001b[38;5;124m\"\u001b[39m: tx_dict,\n\u001b[1;32m    712\u001b[0m }\n",
      "File \u001b[0;32m~/.pyenv/versions/3.11.4/envs/carbet/lib/python3.11/site-packages/enforce_typing/decorator.py:28\u001b[0m, in \u001b[0;36menforce_types.<locals>.decorate.<locals>.wrapper\u001b[0;34m(*args, **kwargs)\u001b[0m\n\u001b[1;32m     26\u001b[0m \u001b[38;5;129m@wraps\u001b[39m(func)\n\u001b[1;32m     27\u001b[0m \u001b[38;5;28;01mdef\u001b[39;00m \u001b[38;5;21mwrapper\u001b[39m(\u001b[38;5;241m*\u001b[39margs, \u001b[38;5;241m*\u001b[39m\u001b[38;5;241m*\u001b[39mkwargs):\n\u001b[0;32m---> 28\u001b[0m     \u001b[43mcheck_types\u001b[49m\u001b[43m(\u001b[49m\u001b[38;5;241;43m*\u001b[39;49m\u001b[43margs\u001b[49m\u001b[43m,\u001b[49m\u001b[43m \u001b[49m\u001b[38;5;241;43m*\u001b[39;49m\u001b[38;5;241;43m*\u001b[39;49m\u001b[43mkwargs\u001b[49m\u001b[43m)\u001b[49m\n\u001b[1;32m     29\u001b[0m     \u001b[38;5;28;01mreturn\u001b[39;00m func(\u001b[38;5;241m*\u001b[39margs, \u001b[38;5;241m*\u001b[39m\u001b[38;5;241m*\u001b[39mkwargs)\n",
      "File \u001b[0;32m~/.pyenv/versions/3.11.4/envs/carbet/lib/python3.11/site-packages/enforce_typing/decorator.py:20\u001b[0m, in \u001b[0;36menforce_types.<locals>.check_types\u001b[0;34m(*args, **kwargs)\u001b[0m\n\u001b[1;32m     18\u001b[0m actual_type \u001b[38;5;241m=\u001b[39m \u001b[38;5;28mgetattr\u001b[39m(type_hint, \u001b[38;5;124m\"\u001b[39m\u001b[38;5;124m__origin__\u001b[39m\u001b[38;5;124m\"\u001b[39m, type_hint)\n\u001b[1;32m     19\u001b[0m actual_type \u001b[38;5;241m=\u001b[39m type_hint\u001b[38;5;241m.\u001b[39m__args__ \u001b[38;5;28;01mif\u001b[39;00m \u001b[38;5;28misinstance\u001b[39m(actual_type, typing\u001b[38;5;241m.\u001b[39m_SpecialForm) \u001b[38;5;28;01melse\u001b[39;00m actual_type\n\u001b[0;32m---> 20\u001b[0m \u001b[38;5;28;01mif\u001b[39;00m \u001b[38;5;129;01mnot\u001b[39;00m \u001b[38;5;28misinstance\u001b[39m(value, actual_type):\n\u001b[1;32m     21\u001b[0m     \u001b[38;5;28;01mraise\u001b[39;00m \u001b[38;5;167;01mTypeError\u001b[39;00m(\n\u001b[1;32m     22\u001b[0m         \u001b[38;5;124mf\u001b[39m\u001b[38;5;124m\"\u001b[39m\u001b[38;5;124mExpected type \u001b[39m\u001b[38;5;124m'\u001b[39m\u001b[38;5;132;01m{\u001b[39;00mtype_hint\u001b[38;5;132;01m}\u001b[39;00m\u001b[38;5;124m'\u001b[39m\u001b[38;5;124m for attribute \u001b[39m\u001b[38;5;124m'\u001b[39m\u001b[38;5;132;01m{\u001b[39;00mname\u001b[38;5;132;01m}\u001b[39;00m\u001b[38;5;124m'\u001b[39m\u001b[38;5;124m but received type \u001b[39m\u001b[38;5;124m'\u001b[39m\u001b[38;5;132;01m{\u001b[39;00m\u001b[38;5;28mtype\u001b[39m(value)\u001b[38;5;132;01m}\u001b[39;00m\u001b[38;5;124m'\u001b[39m\u001b[38;5;124m)\u001b[39m\u001b[38;5;124m\"\u001b[39m\n\u001b[1;32m     23\u001b[0m     )\n",
      "File \u001b[0;32m~/.pyenv/versions/3.11.4/lib/python3.11/typing.py:491\u001b[0m, in \u001b[0;36m_AnyMeta.__instancecheck__\u001b[0;34m(self, obj)\u001b[0m\n\u001b[1;32m    489\u001b[0m \u001b[38;5;28;01mdef\u001b[39;00m \u001b[38;5;21m__instancecheck__\u001b[39m(\u001b[38;5;28mself\u001b[39m, obj):\n\u001b[1;32m    490\u001b[0m     \u001b[38;5;28;01mif\u001b[39;00m \u001b[38;5;28mself\u001b[39m \u001b[38;5;129;01mis\u001b[39;00m Any:\n\u001b[0;32m--> 491\u001b[0m         \u001b[38;5;28;01mraise\u001b[39;00m \u001b[38;5;167;01mTypeError\u001b[39;00m(\u001b[38;5;124m\"\u001b[39m\u001b[38;5;124mtyping.Any cannot be used with isinstance()\u001b[39m\u001b[38;5;124m\"\u001b[39m)\n\u001b[1;32m    492\u001b[0m     \u001b[38;5;28;01mreturn\u001b[39;00m \u001b[38;5;28msuper\u001b[39m()\u001b[38;5;241m.\u001b[39m\u001b[38;5;21m__instancecheck__\u001b[39m(obj)\n",
      "\u001b[0;31mTypeError\u001b[0m: typing.Any cannot be used with isinstance()"
     ]
    }
   ],
   "source": [
    "# Bob sends a datatoken to the service to get access\n",
    "order_tx_id = ocean.assets.pay_for_access_service(some_ddo, {\"from\": bob})\n",
    "\n",
    "# Bob downloads the file. If the connection breaks, Bob can try again\n",
    "asset_dir = ocean.assets.download_asset(some_ddo, bob, './', order_tx_id)\n",
    "\n",
    "import os\n",
    "file_name = os.path.join(asset_dir, \"file0\")"
   ]
  },
  {
   "cell_type": "code",
   "execution_count": 13,
   "metadata": {},
   "outputs": [
    {
     "name": "stdout",
     "output_type": "stream",
     "text": [
      "0x585afeeda591147949a75562a6d86ef0775e8c7bb5e09117dd5f7b41d7b0b2ec\n"
     ]
    }
   ],
   "source": [
    "tx = hex(int(some_ddo.event['tx'], 16))\n",
    "\n",
    "print(tx)"
   ]
  },
  {
   "cell_type": "code",
   "execution_count": 16,
   "metadata": {},
   "outputs": [
    {
     "data": {
      "text/plain": [
       "'0x0f132b540528F52a19bC92251d93Abd752a8453c'"
      ]
     },
     "execution_count": 16,
     "metadata": {},
     "output_type": "execute_result"
    }
   ],
   "source": [
    "bob.address"
   ]
  },
  {
   "cell_type": "code",
   "execution_count": 17,
   "metadata": {},
   "outputs": [
    {
     "ename": "AttributeError",
     "evalue": "'str' object has no attribute 'address'",
     "output_type": "error",
     "traceback": [
      "\u001b[0;31m---------------------------------------------------------------------------\u001b[0m",
      "\u001b[0;31mAttributeError\u001b[0m                            Traceback (most recent call last)",
      "Cell \u001b[0;32mIn[17], line 3\u001b[0m\n\u001b[1;32m      1\u001b[0m \u001b[38;5;66;03m# ocean.assets.download_asset()\u001b[39;00m\n\u001b[0;32m----> 3\u001b[0m asset_dir \u001b[38;5;241m=\u001b[39m \u001b[43mocean\u001b[49m\u001b[38;5;241;43m.\u001b[39;49m\u001b[43massets\u001b[49m\u001b[38;5;241;43m.\u001b[39;49m\u001b[43mdownload_asset\u001b[49m\u001b[43m(\u001b[49m\n\u001b[1;32m      4\u001b[0m \u001b[43m    \u001b[49m\u001b[43msome_ddo\u001b[49m\u001b[43m,\u001b[49m\u001b[43m \u001b[49m\n\u001b[1;32m      5\u001b[0m \u001b[43m    \u001b[49m\u001b[38;5;124;43m'\u001b[39;49m\u001b[38;5;124;43m0x0f132b540528F52a19bC92251d93Abd752a8453c\u001b[39;49m\u001b[38;5;124;43m'\u001b[39;49m\u001b[43m,\u001b[49m\u001b[43m \u001b[49m\n\u001b[1;32m      6\u001b[0m \u001b[43m    \u001b[49m\u001b[38;5;124;43m'\u001b[39;49m\u001b[38;5;124;43m./\u001b[39;49m\u001b[38;5;124;43m'\u001b[39;49m\u001b[43m,\u001b[49m\u001b[43m \u001b[49m\n\u001b[1;32m      7\u001b[0m \u001b[43m    \u001b[49m\u001b[43mtx\u001b[49m\u001b[43m)\u001b[49m\n\u001b[1;32m     10\u001b[0m file_name \u001b[38;5;241m=\u001b[39m os\u001b[38;5;241m.\u001b[39mpath\u001b[38;5;241m.\u001b[39mjoin(asset_dir, \u001b[38;5;124m\"\u001b[39m\u001b[38;5;124mfile0\u001b[39m\u001b[38;5;124m\"\u001b[39m)\n",
      "File \u001b[0;32m~/.pyenv/versions/3.11.4/envs/carbet/lib/python3.11/site-packages/enforce_typing/decorator.py:29\u001b[0m, in \u001b[0;36menforce_types.<locals>.decorate.<locals>.wrapper\u001b[0;34m(*args, **kwargs)\u001b[0m\n\u001b[1;32m     26\u001b[0m \u001b[38;5;129m@wraps\u001b[39m(func)\n\u001b[1;32m     27\u001b[0m \u001b[38;5;28;01mdef\u001b[39;00m \u001b[38;5;21mwrapper\u001b[39m(\u001b[38;5;241m*\u001b[39margs, \u001b[38;5;241m*\u001b[39m\u001b[38;5;241m*\u001b[39mkwargs):\n\u001b[1;32m     28\u001b[0m     check_types(\u001b[38;5;241m*\u001b[39margs, \u001b[38;5;241m*\u001b[39m\u001b[38;5;241m*\u001b[39mkwargs)\n\u001b[0;32m---> 29\u001b[0m     \u001b[38;5;28;01mreturn\u001b[39;00m \u001b[43mfunc\u001b[49m\u001b[43m(\u001b[49m\u001b[38;5;241;43m*\u001b[39;49m\u001b[43margs\u001b[49m\u001b[43m,\u001b[49m\u001b[43m \u001b[49m\u001b[38;5;241;43m*\u001b[39;49m\u001b[38;5;241;43m*\u001b[39;49m\u001b[43mkwargs\u001b[49m\u001b[43m)\u001b[49m\n",
      "File \u001b[0;32m~/.pyenv/versions/3.11.4/envs/carbet/lib/python3.11/site-packages/ocean_lib/ocean/ocean_assets.py:663\u001b[0m, in \u001b[0;36mOceanAssets.download_asset\u001b[0;34m(self, ddo, consumer_wallet, destination, order_tx_id, service, index, userdata)\u001b[0m\n\u001b[1;32m    657\u001b[0m     \u001b[38;5;28;01massert\u001b[39;00m index \u001b[38;5;241m>\u001b[39m\u001b[38;5;241m=\u001b[39m \u001b[38;5;241m0\u001b[39m, logger\u001b[38;5;241m.\u001b[39merror(\u001b[38;5;124m\"\u001b[39m\u001b[38;5;124mindex has to be 0 or a positive integer.\u001b[39m\u001b[38;5;124m\"\u001b[39m)\n\u001b[1;32m    659\u001b[0m \u001b[38;5;28;01massert\u001b[39;00m (\n\u001b[1;32m    660\u001b[0m     service \u001b[38;5;129;01mand\u001b[39;00m service\u001b[38;5;241m.\u001b[39mtype \u001b[38;5;241m==\u001b[39m ServiceTypes\u001b[38;5;241m.\u001b[39mASSET_ACCESS\n\u001b[1;32m    661\u001b[0m ), \u001b[38;5;124mf\u001b[39m\u001b[38;5;124m\"\u001b[39m\u001b[38;5;124mService with type \u001b[39m\u001b[38;5;132;01m{\u001b[39;00mServiceTypes\u001b[38;5;241m.\u001b[39mASSET_ACCESS\u001b[38;5;132;01m}\u001b[39;00m\u001b[38;5;124m is not found.\u001b[39m\u001b[38;5;124m\"\u001b[39m\n\u001b[0;32m--> 663\u001b[0m path: \u001b[38;5;28mstr\u001b[39m \u001b[38;5;241m=\u001b[39m \u001b[43mdownload_asset_files\u001b[49m\u001b[43m(\u001b[49m\n\u001b[1;32m    664\u001b[0m \u001b[43m    \u001b[49m\u001b[43mddo\u001b[49m\u001b[43m,\u001b[49m\u001b[43m \u001b[49m\u001b[43mservice\u001b[49m\u001b[43m,\u001b[49m\u001b[43m \u001b[49m\u001b[43mconsumer_wallet\u001b[49m\u001b[43m,\u001b[49m\u001b[43m \u001b[49m\u001b[43mdestination\u001b[49m\u001b[43m,\u001b[49m\u001b[43m \u001b[49m\u001b[43morder_tx_id\u001b[49m\u001b[43m,\u001b[49m\u001b[43m \u001b[49m\u001b[43mindex\u001b[49m\u001b[43m,\u001b[49m\u001b[43m \u001b[49m\u001b[43muserdata\u001b[49m\n\u001b[1;32m    665\u001b[0m \u001b[43m\u001b[49m\u001b[43m)\u001b[49m\n\u001b[1;32m    666\u001b[0m \u001b[38;5;28;01mreturn\u001b[39;00m path\n",
      "File \u001b[0;32m~/.pyenv/versions/3.11.4/envs/carbet/lib/python3.11/site-packages/enforce_typing/decorator.py:29\u001b[0m, in \u001b[0;36menforce_types.<locals>.decorate.<locals>.wrapper\u001b[0;34m(*args, **kwargs)\u001b[0m\n\u001b[1;32m     26\u001b[0m \u001b[38;5;129m@wraps\u001b[39m(func)\n\u001b[1;32m     27\u001b[0m \u001b[38;5;28;01mdef\u001b[39;00m \u001b[38;5;21mwrapper\u001b[39m(\u001b[38;5;241m*\u001b[39margs, \u001b[38;5;241m*\u001b[39m\u001b[38;5;241m*\u001b[39mkwargs):\n\u001b[1;32m     28\u001b[0m     check_types(\u001b[38;5;241m*\u001b[39margs, \u001b[38;5;241m*\u001b[39m\u001b[38;5;241m*\u001b[39mkwargs)\n\u001b[0;32m---> 29\u001b[0m     \u001b[38;5;28;01mreturn\u001b[39;00m \u001b[43mfunc\u001b[49m\u001b[43m(\u001b[49m\u001b[38;5;241;43m*\u001b[39;49m\u001b[43margs\u001b[49m\u001b[43m,\u001b[49m\u001b[43m \u001b[49m\u001b[38;5;241;43m*\u001b[39;49m\u001b[38;5;241;43m*\u001b[39;49m\u001b[43mkwargs\u001b[49m\u001b[43m)\u001b[49m\n",
      "File \u001b[0;32m~/.pyenv/versions/3.11.4/envs/carbet/lib/python3.11/site-packages/ocean_lib/assets/asset_downloader.py:58\u001b[0m, in \u001b[0;36mdownload_asset_files\u001b[0;34m(ddo, service, consumer_wallet, destination, order_tx_id, index, userdata)\u001b[0m\n\u001b[1;32m     52\u001b[0m     \u001b[38;5;28;01massert\u001b[39;00m \u001b[38;5;28misinstance\u001b[39m(index, \u001b[38;5;28mint\u001b[39m), logger\u001b[38;5;241m.\u001b[39merror(\u001b[38;5;124m\"\u001b[39m\u001b[38;5;124mindex has to be an integer.\u001b[39m\u001b[38;5;124m\"\u001b[39m)\n\u001b[1;32m     53\u001b[0m     \u001b[38;5;28;01massert\u001b[39;00m index \u001b[38;5;241m>\u001b[39m\u001b[38;5;241m=\u001b[39m \u001b[38;5;241m0\u001b[39m, logger\u001b[38;5;241m.\u001b[39merror(\u001b[38;5;124m\"\u001b[39m\u001b[38;5;124mindex has to be 0 or a positive integer.\u001b[39m\u001b[38;5;124m\"\u001b[39m)\n\u001b[1;32m     55\u001b[0m consumable_result \u001b[38;5;241m=\u001b[39m is_consumable(\n\u001b[1;32m     56\u001b[0m     ddo,\n\u001b[1;32m     57\u001b[0m     service,\n\u001b[0;32m---> 58\u001b[0m     {\u001b[38;5;124m\"\u001b[39m\u001b[38;5;124mtype\u001b[39m\u001b[38;5;124m\"\u001b[39m: \u001b[38;5;124m\"\u001b[39m\u001b[38;5;124maddress\u001b[39m\u001b[38;5;124m\"\u001b[39m, \u001b[38;5;124m\"\u001b[39m\u001b[38;5;124mvalue\u001b[39m\u001b[38;5;124m\"\u001b[39m: \u001b[43mconsumer_wallet\u001b[49m\u001b[38;5;241;43m.\u001b[39;49m\u001b[43maddress\u001b[49m},\n\u001b[1;32m     59\u001b[0m     with_connectivity_check\u001b[38;5;241m=\u001b[39m\u001b[38;5;28;01mTrue\u001b[39;00m,\n\u001b[1;32m     60\u001b[0m     userdata\u001b[38;5;241m=\u001b[39muserdata,\n\u001b[1;32m     61\u001b[0m )\n\u001b[1;32m     62\u001b[0m \u001b[38;5;28;01mif\u001b[39;00m consumable_result \u001b[38;5;241m!=\u001b[39m ConsumableCodes\u001b[38;5;241m.\u001b[39mOK:\n\u001b[1;32m     63\u001b[0m     \u001b[38;5;28;01mraise\u001b[39;00m AssetNotConsumable(consumable_result)\n",
      "\u001b[0;31mAttributeError\u001b[0m: 'str' object has no attribute 'address'"
     ]
    }
   ],
   "source": [
    "# ocean.assets.download_asset()\n",
    "\n",
    "asset_dir = ocean.assets.download_asset(\n",
    "    some_ddo, \n",
    "    '0x0f132b540528F52a19bC92251d93Abd752a8453c', \n",
    "    './', \n",
    "    tx)\n",
    "\n",
    "\n",
    "file_name = os.path.join(asset_dir, \"file0\")"
   ]
  },
  {
   "cell_type": "code",
   "execution_count": null,
   "metadata": {},
   "outputs": [],
   "source": []
  }
 ],
 "metadata": {
  "kernelspec": {
   "display_name": "carbet",
   "language": "python",
   "name": "python3"
  },
  "language_info": {
   "codemirror_mode": {
    "name": "ipython",
    "version": 3
   },
   "file_extension": ".py",
   "mimetype": "text/x-python",
   "name": "python",
   "nbconvert_exporter": "python",
   "pygments_lexer": "ipython3",
   "version": "3.11.4"
  }
 },
 "nbformat": 4,
 "nbformat_minor": 2
}
